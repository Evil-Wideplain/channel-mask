{
 "cells": [
  {
   "cell_type": "code",
   "execution_count": 1,
   "id": "9d06ff0e",
   "metadata": {},
   "outputs": [
    {
     "name": "stdout",
     "output_type": "stream",
     "text": [
      "2022-10-22 18:07:44.658812: I tensorflow/stream_executor/platform/default/dso_loader.cc:53] Successfully opened dynamic library libcudart.so.11.0\n",
      "/home/intelligence01/data/xieqi/pycharm/CL2/models/frameworks.py:35: TracerWarning: Converting a tensor to a NumPy array might cause the trace to be incorrect. We can't record the data flow of Python values, so this value will be treated as a constant in the future. This means that the trace might not generalize to other inputs!\n",
      "  self.distance = dis_func(z1.clone().detach().cpu().numpy(), z2.clone().detach().cpu().numpy(), metrics='cosine')\n",
      "/home/intelligence01/data/xieqi/pycharm/CL2/models/frameworks.py:35: TracerWarning: Converting a tensor to a NumPy array might cause the trace to be incorrect. We can't record the data flow of Python values, so this value will be treated as a constant in the future. This means that the trace might not generalize to other inputs!\n",
      "  self.distance = dis_func(z1.clone().detach().cpu().numpy(), z2.clone().detach().cpu().numpy(), metrics='cosine')\n",
      "Epoch [120/120]->Train(18/19): 100%|████████████████████████████████████████████████████████████████████| 120/120 [22:41<00:00, 11.34s/it, loss=0.209]\n",
      "Epoch [120/120]: 100%|██████████████████████| 120/120 [03:08<00:00,  1.57s/it, acc=0.849, test_loss=tensor(0.5247), val_acc=0.919, val_loss=0.3028265]\n",
      "/home/intelligence01/data/xieqi/pycharm/CL2/models/frameworks.py:35: TracerWarning: Converting a tensor to a NumPy array might cause the trace to be incorrect. We can't record the data flow of Python values, so this value will be treated as a constant in the future. This means that the trace might not generalize to other inputs!\n",
      "  self.distance = dis_func(z1.clone().detach().cpu().numpy(), z2.clone().detach().cpu().numpy(), metrics='cosine')\n",
      "/home/intelligence01/data/xieqi/pycharm/CL2/models/frameworks.py:35: TracerWarning: Converting a tensor to a NumPy array might cause the trace to be incorrect. We can't record the data flow of Python values, so this value will be treated as a constant in the future. This means that the trace might not generalize to other inputs!\n",
      "  self.distance = dis_func(z1.clone().detach().cpu().numpy(), z2.clone().detach().cpu().numpy(), metrics='cosine')\n",
      "Epoch [120/120]->Train(18/19): 100%|████████████████████████████████████████████████████████████████████| 120/120 [22:56<00:00, 11.47s/it, loss=0.204]\n",
      "Epoch [120/120]: 100%|██████████████████████| 120/120 [03:11<00:00,  1.59s/it, acc=0.859, test_loss=tensor(0.4800), val_acc=0.959, val_loss=0.1901814]\n",
      "/home/intelligence01/data/xieqi/pycharm/CL2/models/frameworks.py:35: TracerWarning: Converting a tensor to a NumPy array might cause the trace to be incorrect. We can't record the data flow of Python values, so this value will be treated as a constant in the future. This means that the trace might not generalize to other inputs!\n",
      "  self.distance = dis_func(z1.clone().detach().cpu().numpy(), z2.clone().detach().cpu().numpy(), metrics='cosine')\n",
      "/home/intelligence01/data/xieqi/pycharm/CL2/models/frameworks.py:35: TracerWarning: Converting a tensor to a NumPy array might cause the trace to be incorrect. We can't record the data flow of Python values, so this value will be treated as a constant in the future. This means that the trace might not generalize to other inputs!\n",
      "  self.distance = dis_func(z1.clone().detach().cpu().numpy(), z2.clone().detach().cpu().numpy(), metrics='cosine')\n",
      "Epoch [107/120]->Train(15/19):  88%|████████████████████████████████████████████████████████████        | 106/120 [23:43<03:04, 13.15s/it, loss=0.148]"
     ]
    }
   ],
   "source": [
    "!python main.py >> ./xieqi/log.txt"
   ]
  },
  {
   "cell_type": "markdown",
   "id": "8db3e10c",
   "metadata": {},
   "source": [
    "别动！！！！"
   ]
  },
  {
   "cell_type": "code",
   "execution_count": null,
   "id": "b73e55e8",
   "metadata": {},
   "outputs": [],
   "source": []
  }
 ],
 "metadata": {
  "kernelspec": {
   "display_name": "Python 3 (ipykernel)",
   "language": "python",
   "name": "python3"
  },
  "language_info": {
   "codemirror_mode": {
    "name": "ipython",
    "version": 3
   },
   "file_extension": ".py",
   "mimetype": "text/x-python",
   "name": "python",
   "nbconvert_exporter": "python",
   "pygments_lexer": "ipython3",
   "version": "3.9.7"
  }
 },
 "nbformat": 4,
 "nbformat_minor": 5
}
